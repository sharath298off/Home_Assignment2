{
  "nbformat": 4,
  "nbformat_minor": 0,
  "metadata": {
    "colab": {
      "provenance": [],
      "include_colab_link": true
    },
    "kernelspec": {
      "name": "python3",
      "display_name": "Python 3"
    },
    "language_info": {
      "name": "python"
    }
  },
  "cells": [
    {
      "cell_type": "markdown",
      "metadata": {
        "id": "view-in-github",
        "colab_type": "text"
      },
      "source": [
        "<a href=\"https://colab.research.google.com/github/sharath298off/Home_Assignment2/blob/main/HomeAssignment2.ipynb\" target=\"_parent\"><img src=\"https://colab.research.google.com/assets/colab-badge.svg\" alt=\"Open In Colab\"/></a>"
      ]
    },
    {
      "cell_type": "markdown",
      "source": [
        "Question 1: Convolution with Stride and Padding"
      ],
      "metadata": {
        "id": "QS_5HteuQ9d2"
      }
    },
    {
      "cell_type": "code",
      "execution_count": 1,
      "metadata": {
        "colab": {
          "base_uri": "https://localhost:8080/"
        },
        "id": "nxZCZL1gQvoM",
        "outputId": "eedcf896-ffc2-4edf-da1f-cf139ea08f44"
      },
      "outputs": [
        {
          "output_type": "stream",
          "name": "stdout",
          "text": [
            "\n",
            "Stride=1, Padding=VALID:\n",
            "[[0. 0. 0.]\n",
            " [0. 0. 0.]\n",
            " [0. 0. 0.]]\n",
            "\n",
            "Stride=1, Padding=SAME:\n",
            "[[  4.   3.   2.   1.  -6.]\n",
            " [ -5.   0.   0.   0. -11.]\n",
            " [-10.   0.   0.   0. -16.]\n",
            " [-15.   0.   0.   0. -21.]\n",
            " [-46. -27. -28. -29. -56.]]\n",
            "\n",
            "Stride=2, Padding=VALID:\n",
            "[[0. 0.]\n",
            " [0. 0.]]\n",
            "\n",
            "Stride=2, Padding=SAME:\n",
            "[[  4.   2.  -6.]\n",
            " [-10.   0. -16.]\n",
            " [-46. -28. -56.]]\n"
          ]
        }
      ],
      "source": [
        "import tensorflow as tf\n",
        "import numpy as np\n",
        "\n",
        "# 5x5 Input\n",
        "input_matrix = tf.constant([\n",
        "    [1, 2, 3, 4, 5],\n",
        "    [6, 7, 8, 9, 10],\n",
        "    [11,12,13,14,15],\n",
        "    [16,17,18,19,20],\n",
        "    [21,22,23,24,25]\n",
        "], dtype=tf.float32)\n",
        "input_matrix = tf.reshape(input_matrix, [1, 5, 5, 1])\n",
        "\n",
        "# 3x3 Kernel\n",
        "kernel = tf.constant([\n",
        "    [0, 1, 0],\n",
        "    [1, -4, 1],\n",
        "    [0, 1, 0]\n",
        "], dtype=tf.float32)\n",
        "kernel = tf.reshape(kernel, [3, 3, 1, 1])\n",
        "\n",
        "def apply_conv(stride, padding):\n",
        "    return tf.nn.conv2d(input_matrix, kernel, strides=[1, stride, stride, 1], padding=padding)\n",
        "\n",
        "# Convolution outputs\n",
        "for label, stride, pad in [\n",
        "    (\"Stride=1, Padding=VALID\", 1, 'VALID'),\n",
        "    (\"Stride=1, Padding=SAME\", 1, 'SAME'),\n",
        "    (\"Stride=2, Padding=VALID\", 2, 'VALID'),\n",
        "    (\"Stride=2, Padding=SAME\", 2, 'SAME')\n",
        "]:\n",
        "    result = apply_conv(stride, pad)\n",
        "    print(f\"\\n{label}:\\n{tf.squeeze(result).numpy()}\")\n"
      ]
    },
    {
      "cell_type": "markdown",
      "source": [
        "Question 2 Task 1: Sobel Edge Detection"
      ],
      "metadata": {
        "id": "Em7lflnIRKcf"
      }
    },
    {
      "cell_type": "code",
      "source": [
        "from google.colab import files\n",
        "uploaded = files.upload()\n"
      ],
      "metadata": {
        "colab": {
          "base_uri": "https://localhost:8080/",
          "height": 38
        },
        "id": "3yVCLI-7RcOM",
        "outputId": "5d496d8f-e410-494c-a444-78ec3474b25a"
      },
      "execution_count": null,
      "outputs": [
        {
          "output_type": "display_data",
          "data": {
            "text/plain": [
              "<IPython.core.display.HTML object>"
            ],
            "text/html": [
              "\n",
              "     <input type=\"file\" id=\"files-55cc64d1-2e1b-4cea-be67-11538f19a817\" name=\"files[]\" multiple disabled\n",
              "        style=\"border:none\" />\n",
              "     <output id=\"result-55cc64d1-2e1b-4cea-be67-11538f19a817\">\n",
              "      Upload widget is only available when the cell has been executed in the\n",
              "      current browser session. Please rerun this cell to enable.\n",
              "      </output>\n",
              "      <script>// Copyright 2017 Google LLC\n",
              "//\n",
              "// Licensed under the Apache License, Version 2.0 (the \"License\");\n",
              "// you may not use this file except in compliance with the License.\n",
              "// You may obtain a copy of the License at\n",
              "//\n",
              "//      http://www.apache.org/licenses/LICENSE-2.0\n",
              "//\n",
              "// Unless required by applicable law or agreed to in writing, software\n",
              "// distributed under the License is distributed on an \"AS IS\" BASIS,\n",
              "// WITHOUT WARRANTIES OR CONDITIONS OF ANY KIND, either express or implied.\n",
              "// See the License for the specific language governing permissions and\n",
              "// limitations under the License.\n",
              "\n",
              "/**\n",
              " * @fileoverview Helpers for google.colab Python module.\n",
              " */\n",
              "(function(scope) {\n",
              "function span(text, styleAttributes = {}) {\n",
              "  const element = document.createElement('span');\n",
              "  element.textContent = text;\n",
              "  for (const key of Object.keys(styleAttributes)) {\n",
              "    element.style[key] = styleAttributes[key];\n",
              "  }\n",
              "  return element;\n",
              "}\n",
              "\n",
              "// Max number of bytes which will be uploaded at a time.\n",
              "const MAX_PAYLOAD_SIZE = 100 * 1024;\n",
              "\n",
              "function _uploadFiles(inputId, outputId) {\n",
              "  const steps = uploadFilesStep(inputId, outputId);\n",
              "  const outputElement = document.getElementById(outputId);\n",
              "  // Cache steps on the outputElement to make it available for the next call\n",
              "  // to uploadFilesContinue from Python.\n",
              "  outputElement.steps = steps;\n",
              "\n",
              "  return _uploadFilesContinue(outputId);\n",
              "}\n",
              "\n",
              "// This is roughly an async generator (not supported in the browser yet),\n",
              "// where there are multiple asynchronous steps and the Python side is going\n",
              "// to poll for completion of each step.\n",
              "// This uses a Promise to block the python side on completion of each step,\n",
              "// then passes the result of the previous step as the input to the next step.\n",
              "function _uploadFilesContinue(outputId) {\n",
              "  const outputElement = document.getElementById(outputId);\n",
              "  const steps = outputElement.steps;\n",
              "\n",
              "  const next = steps.next(outputElement.lastPromiseValue);\n",
              "  return Promise.resolve(next.value.promise).then((value) => {\n",
              "    // Cache the last promise value to make it available to the next\n",
              "    // step of the generator.\n",
              "    outputElement.lastPromiseValue = value;\n",
              "    return next.value.response;\n",
              "  });\n",
              "}\n",
              "\n",
              "/**\n",
              " * Generator function which is called between each async step of the upload\n",
              " * process.\n",
              " * @param {string} inputId Element ID of the input file picker element.\n",
              " * @param {string} outputId Element ID of the output display.\n",
              " * @return {!Iterable<!Object>} Iterable of next steps.\n",
              " */\n",
              "function* uploadFilesStep(inputId, outputId) {\n",
              "  const inputElement = document.getElementById(inputId);\n",
              "  inputElement.disabled = false;\n",
              "\n",
              "  const outputElement = document.getElementById(outputId);\n",
              "  outputElement.innerHTML = '';\n",
              "\n",
              "  const pickedPromise = new Promise((resolve) => {\n",
              "    inputElement.addEventListener('change', (e) => {\n",
              "      resolve(e.target.files);\n",
              "    });\n",
              "  });\n",
              "\n",
              "  const cancel = document.createElement('button');\n",
              "  inputElement.parentElement.appendChild(cancel);\n",
              "  cancel.textContent = 'Cancel upload';\n",
              "  const cancelPromise = new Promise((resolve) => {\n",
              "    cancel.onclick = () => {\n",
              "      resolve(null);\n",
              "    };\n",
              "  });\n",
              "\n",
              "  // Wait for the user to pick the files.\n",
              "  const files = yield {\n",
              "    promise: Promise.race([pickedPromise, cancelPromise]),\n",
              "    response: {\n",
              "      action: 'starting',\n",
              "    }\n",
              "  };\n",
              "\n",
              "  cancel.remove();\n",
              "\n",
              "  // Disable the input element since further picks are not allowed.\n",
              "  inputElement.disabled = true;\n",
              "\n",
              "  if (!files) {\n",
              "    return {\n",
              "      response: {\n",
              "        action: 'complete',\n",
              "      }\n",
              "    };\n",
              "  }\n",
              "\n",
              "  for (const file of files) {\n",
              "    const li = document.createElement('li');\n",
              "    li.append(span(file.name, {fontWeight: 'bold'}));\n",
              "    li.append(span(\n",
              "        `(${file.type || 'n/a'}) - ${file.size} bytes, ` +\n",
              "        `last modified: ${\n",
              "            file.lastModifiedDate ? file.lastModifiedDate.toLocaleDateString() :\n",
              "                                    'n/a'} - `));\n",
              "    const percent = span('0% done');\n",
              "    li.appendChild(percent);\n",
              "\n",
              "    outputElement.appendChild(li);\n",
              "\n",
              "    const fileDataPromise = new Promise((resolve) => {\n",
              "      const reader = new FileReader();\n",
              "      reader.onload = (e) => {\n",
              "        resolve(e.target.result);\n",
              "      };\n",
              "      reader.readAsArrayBuffer(file);\n",
              "    });\n",
              "    // Wait for the data to be ready.\n",
              "    let fileData = yield {\n",
              "      promise: fileDataPromise,\n",
              "      response: {\n",
              "        action: 'continue',\n",
              "      }\n",
              "    };\n",
              "\n",
              "    // Use a chunked sending to avoid message size limits. See b/62115660.\n",
              "    let position = 0;\n",
              "    do {\n",
              "      const length = Math.min(fileData.byteLength - position, MAX_PAYLOAD_SIZE);\n",
              "      const chunk = new Uint8Array(fileData, position, length);\n",
              "      position += length;\n",
              "\n",
              "      const base64 = btoa(String.fromCharCode.apply(null, chunk));\n",
              "      yield {\n",
              "        response: {\n",
              "          action: 'append',\n",
              "          file: file.name,\n",
              "          data: base64,\n",
              "        },\n",
              "      };\n",
              "\n",
              "      let percentDone = fileData.byteLength === 0 ?\n",
              "          100 :\n",
              "          Math.round((position / fileData.byteLength) * 100);\n",
              "      percent.textContent = `${percentDone}% done`;\n",
              "\n",
              "    } while (position < fileData.byteLength);\n",
              "  }\n",
              "\n",
              "  // All done.\n",
              "  yield {\n",
              "    response: {\n",
              "      action: 'complete',\n",
              "    }\n",
              "  };\n",
              "}\n",
              "\n",
              "scope.google = scope.google || {};\n",
              "scope.google.colab = scope.google.colab || {};\n",
              "scope.google.colab._files = {\n",
              "  _uploadFiles,\n",
              "  _uploadFilesContinue,\n",
              "};\n",
              "})(self);\n",
              "</script> "
            ]
          },
          "metadata": {}
        }
      ]
    },
    {
      "cell_type": "code",
      "source": [
        "import os\n",
        "print(\"Current directory files:\")\n",
        "print(os.listdir())  # You should see 'dog.jpeg' in the list\n"
      ],
      "metadata": {
        "colab": {
          "base_uri": "https://localhost:8080/"
        },
        "id": "MDxFIdMrRncI",
        "outputId": "094f3523-116a-460c-b751-9c71ef2e49e5"
      },
      "execution_count": null,
      "outputs": [
        {
          "output_type": "stream",
          "name": "stdout",
          "text": [
            "Current directory files:\n",
            "['.config', 'dog.jpeg', 'sample_data']\n"
          ]
        }
      ]
    },
    {
      "cell_type": "code",
      "source": [
        "import cv2\n",
        "import numpy as np\n",
        "import matplotlib.pyplot as plt\n",
        "\n",
        "# Step 1: Load and convert to grayscale\n",
        "image = cv2.imread('dog.jpeg')\n",
        "gray = cv2.cvtColor(image, cv2.COLOR_BGR2GRAY)\n",
        "\n",
        "# Step 2: Define custom Sobel kernels\n",
        "sobel_x_kernel = np.array([\n",
        "    [-1, 0, 1],\n",
        "    [-2, 0, 2],\n",
        "    [-1, 0, 1]\n",
        "], dtype=np.float32)\n",
        "\n",
        "sobel_y_kernel = np.array([\n",
        "    [-1, -2, -1],\n",
        "    [ 0,  0,  0],\n",
        "    [ 1,  2,  1]\n",
        "], dtype=np.float32)\n",
        "\n",
        "# Step 3: Apply custom filters using filter2D\n",
        "sobel_x = cv2.filter2D(gray, -1, sobel_x_kernel)\n",
        "sobel_y = cv2.filter2D(gray, -1, sobel_y_kernel)\n",
        "\n",
        "# Step 4: Display results\n",
        "plt.figure(figsize=(12, 4))\n",
        "\n",
        "plt.subplot(1, 3, 1)\n",
        "plt.title(\"Original Grayscale\")\n",
        "plt.imshow(gray, cmap='gray')\n",
        "plt.axis('off')\n",
        "\n",
        "plt.subplot(1, 3, 2)\n",
        "plt.title(\"Manual Sobel X\")\n",
        "plt.imshow(sobel_x, cmap='gray')\n",
        "plt.axis('off')\n",
        "\n",
        "plt.subplot(1, 3, 3)\n",
        "plt.title(\"Manual Sobel Y\")\n",
        "plt.imshow(sobel_y, cmap='gray')\n",
        "plt.axis('off')\n",
        "\n",
        "plt.tight_layout()\n",
        "plt.show()\n"
      ],
      "metadata": {
        "id": "yzGFIfihRrSw"
      },
      "execution_count": null,
      "outputs": []
    },
    {
      "cell_type": "markdown",
      "source": [
        "Task 2: Max Pooling & Average Pooling with TensorFlow"
      ],
      "metadata": {
        "id": "Pn_gA6xvSZC7"
      }
    },
    {
      "cell_type": "code",
      "source": [
        "import tensorflow as tf\n",
        "import numpy as np\n",
        "\n",
        "# ✅ Step 1: Create a random 4x4 input matrix\n",
        "np.random.seed(42)  # For reproducibility\n",
        "input_array = np.random.randint(1, 10, size=(4, 4))\n",
        "input_tensor = tf.constant(input_array, dtype=tf.float32)\n",
        "input_tensor = tf.reshape(input_tensor, [1, 4, 4, 1])  # Shape: [batch, height, width, channels]\n",
        "\n",
        "# ✅ Step 2: Apply 2x2 Max Pooling\n",
        "max_pooled = tf.nn.max_pool2d(input_tensor, ksize=2, strides=2, padding='VALID')\n",
        "\n",
        "# ✅ Step 3: Apply 2x2 Average Pooling\n",
        "avg_pooled = tf.nn.avg_pool2d(input_tensor, ksize=2, strides=2, padding='VALID')\n",
        "\n",
        "# ✅ Step 4: Print the outputs\n",
        "print(\"🟩 Original 4x4 Matrix:\\n\", tf.squeeze(input_tensor).numpy())\n",
        "print(\"\\n🔷 Max Pooled Matrix (2x2):\\n\", tf.squeeze(max_pooled).numpy())\n",
        "print(\"\\n🔶 Average Pooled Matrix (2x2):\\n\", tf.squeeze(avg_pooled).numpy())\n"
      ],
      "metadata": {
        "id": "52ZuM6MySZpI"
      },
      "execution_count": null,
      "outputs": []
    },
    {
      "cell_type": "markdown",
      "source": [
        "Q3: Data Preprocessing - Standardization vs. Normalization"
      ],
      "metadata": {
        "id": "QFifm4u3SvTQ"
      }
    },
    {
      "cell_type": "code",
      "source": [
        "# ✅ Import Required Libraries\n",
        "import numpy as np\n",
        "import matplotlib.pyplot as plt\n",
        "from sklearn.datasets import load_iris\n",
        "from sklearn.preprocessing import MinMaxScaler, StandardScaler\n",
        "from sklearn.linear_model import LogisticRegression\n",
        "from sklearn.model_selection import train_test_split\n",
        "\n",
        "# ✅ 1. Load the Iris Dataset\n",
        "iris = load_iris()\n",
        "X = iris.data\n",
        "y = iris.target\n",
        "feature_names = iris.feature_names\n",
        "\n",
        "# ✅ 2. Apply Min-Max Normalization\n",
        "minmax_scaler = MinMaxScaler()\n",
        "X_minmax = minmax_scaler.fit_transform(X)\n",
        "print(\"✅ Min-Max Normalized data (first 5 rows):\\n\", X_minmax[:5])\n",
        "\n",
        "# ✅ 3. Apply Z-score Standardization\n",
        "zscore_scaler = StandardScaler()\n",
        "X_zscore = zscore_scaler.fit_transform(X)\n",
        "print(\"\\n✅ Z-score Standardized data (first 5 rows):\\n\", X_zscore[:5])\n",
        "\n",
        "# ✅ 4. Plot histograms for each feature separately\n",
        "plt.figure(figsize=(14, 6))\n",
        "\n",
        "for i in range(X.shape[1]):\n",
        "    # Min-Max Normalized\n",
        "    plt.subplot(2, 4, i + 1)\n",
        "    plt.hist(X_minmax[:, i], bins=20, color='skyblue', edgecolor='black')\n",
        "    plt.title(f\"Min-Max: {feature_names[i]}\")\n",
        "    plt.xticks(rotation=45)\n",
        "\n",
        "    # Z-Score Standardized\n",
        "    plt.subplot(2, 4, i + 5)\n",
        "    plt.hist(X_zscore[:, i], bins=20, color='salmon', edgecolor='black')\n",
        "    plt.title(f\"Z-Score: {feature_names[i]}\")\n",
        "    plt.xticks(rotation=45)\n",
        "\n",
        "plt.tight_layout()\n",
        "plt.show()\n",
        "\n",
        "# ✅ 5. Train Logistic Regression & Compare Accuracy\n",
        "def train_and_test(X_data, label, y):\n",
        "    X_train, X_test, y_train, y_test = train_test_split(X_data, y, test_size=0.3, random_state=42)\n",
        "    model = LogisticRegression(max_iter=200)\n",
        "    model.fit(X_train, y_train)\n",
        "    accuracy = model.score(X_test, y_test)\n",
        "    print(f\"🔹 Accuracy on {label}: {accuracy:.4f}\")\n",
        "    return accuracy\n",
        "\n",
        "# Run and compare models\n",
        "acc_original = train_and_test(X, \"Original Data\", y)\n",
        "acc_minmax = train_and_test(X_minmax, \"Min-Max Normalized Data\", y)\n",
        "acc_zscore = train_and_test(X_zscore, \"Z-Score Standardized Data\", y)\n"
      ],
      "metadata": {
        "id": "uW2Th2EISwbj"
      },
      "execution_count": null,
      "outputs": []
    },
    {
      "cell_type": "markdown",
      "source": [
        "In deep learning, standardization is usually more effective than normalization because it centers and scales data, leading to faster convergence and better training stability. Normalization is still preferred for specific models like CNNs on image data, but standardization works well for most feedforward and recurrent neural networks."
      ],
      "metadata": {
        "id": "pObuC2UhU_z6"
      }
    }
  ]
}